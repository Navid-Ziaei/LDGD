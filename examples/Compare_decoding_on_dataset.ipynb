{
 "cells": [
  {
   "cell_type": "code",
   "execution_count": 1,
   "source": [
    "%matplotlib inline\n",
    "%load_ext autoreload\n",
    "%autoreload 2\n",
    "\n",
    "from LDGD.model import ARDRBFKernel, LDGD\n",
    "from LDGD.model.experimental.GP_scratch import bGPLVM\n",
    "from LDGD.visualization import plot_box_plots\n",
    "from gpytorch.likelihoods import GaussianLikelihood, BernoulliLikelihood\n",
    "from gpytorch.mlls import VariationalELBO\n",
    "import gpytorch\n",
    "import numpy as np\n",
    "import torch\n",
    "from sklearn.manifold import TSNE\n",
    "from sklearn.decomposition import PCA\n",
    "from scipy.io import savemat, loadmat\n",
    "import matplotlib.pyplot as plt\n",
    "import json\n",
    "import winsound\n",
    "\n",
    "from LDGD.visualization.vizualize_utils import plot_heatmap, plot_2d_scatter, plot_ARD_gplvm\n",
    "from LDGD.visualization.vizualize_utils import plot_loss_gplvm, plot_scatter_gplvm, plot_box_plots"
   ],
   "metadata": {
    "collapsed": false,
    "ExecuteTime": {
     "end_time": "2024-02-21T01:08:09.998061300Z",
     "start_time": "2024-02-21T01:08:06.618491500Z"
    }
   },
   "outputs": []
  },
  {
   "cell_type": "code",
   "execution_count": 2,
   "source": [
    "np.random.seed(42)\n",
    "torch.manual_seed(42)\n",
    "\n",
    "duration = 1000  # milliseconds\n",
    "freq = 440  # Hz\n",
    "device = torch.device(\"cuda\" if torch.cuda.is_available() else \"cpu\")"
   ],
   "metadata": {
    "collapsed": false,
    "ExecuteTime": {
     "end_time": "2024-02-21T01:08:10.156216900Z",
     "start_time": "2024-02-21T01:08:10.006134600Z"
    }
   },
   "outputs": []
  },
  {
   "cell_type": "code",
   "execution_count": 28,
   "source": [
    "def train_model(data_cont, data_cat, settings, filename):\n",
    "    num_points, data_dim = data_cont.shape\n",
    "    batch_shape = torch.Size([data_dim])\n",
    "    settings['use_gpytorch'] = True\n",
    "    if settings['use_gpytorch'] is False:\n",
    "        kernel_cls = ARDRBFKernel(input_dim=settings['latent_dim'])\n",
    "        kernel_reg = ARDRBFKernel(input_dim=settings['latent_dim'])\n",
    "    else:\n",
    "        kernel_reg = gpytorch.kernels.ScaleKernel(gpytorch.kernels.RBFKernel(ard_num_dims=settings['latent_dim']))\n",
    "        kernel_cls = gpytorch.kernels.ScaleKernel(gpytorch.kernels.RBFKernel(ard_num_dims=settings['latent_dim']))\n",
    "\n",
    "    likelihood_reg = GaussianLikelihood(batch_shape=batch_shape)\n",
    "    likelihood_cls = BernoulliLikelihood()\n",
    "\n",
    "\n",
    "    if settings['load_model'] is True:\n",
    "        with open(f'./saved_models/fig3_ldgd_{filename}_settings.json', 'r') as file:\n",
    "            settings = json.load(file)\n",
    "        model = LDGD(data_cont,\n",
    "                kernel_reg=kernel_reg,\n",
    "                kernel_cls=kernel_cls,\n",
    "                num_classes=data_cat.shape[-1],\n",
    "                num_inducing_points_cls=settings['num_inducing_points_cls'],\n",
    "                num_inducing_points_reg=settings['num_inducing_points_reg'],\n",
    "                latent_dim=settings['latent_dim'],\n",
    "                likelihood_reg=likelihood_reg,\n",
    "                likelihood_cls=likelihood_cls,\n",
    "                use_gpytorch=settings['use_gpytorch'],\n",
    "                shared_inducing_points=settings['shared_inducing_points'],\n",
    "                x_init=settings['x_init'])\n",
    "        model.load_weights(path_save='./saved_models/', file_name=f\"fig3_ldgd_{filename}.pth\")\n",
    "        history_train = model.history_train\n",
    "        losses = model.history_train['elbo_loss']\n",
    "    else:\n",
    "        model = LDGD(data_cont,\n",
    "                kernel_reg=kernel_reg,\n",
    "                kernel_cls=kernel_cls,\n",
    "                num_classes=data_cat.shape[-1],\n",
    "                num_inducing_points_cls=settings['num_inducing_points_cls'],\n",
    "                num_inducing_points_reg=settings['num_inducing_points_reg'],\n",
    "                latent_dim=settings['latent_dim'],\n",
    "                likelihood_reg=likelihood_reg,\n",
    "                likelihood_cls=likelihood_cls,\n",
    "                use_gpytorch=settings['use_gpytorch'],\n",
    "                shared_inducing_points=settings['shared_inducing_points'],\n",
    "                x_init=settings['x_init'])\n",
    "\n",
    "        losses, history_train = model.train_model(yn=data_cont,\n",
    "                                                  ys=data_cat,\n",
    "                                                  epochs=settings['num_epochs_train'],\n",
    "                                                  batch_size=settings['batch_size'])\n",
    "\n",
    "        if settings['save_model'] is True:\n",
    "            model.save_wights(path_save='./saved_models/', file_name=f\"fig3_ldgd_{filename}\")\n",
    "        with open(f'./saved_models/fig3_ldgd_{filename}_settings.json', 'w') as f:\n",
    "            json.dump(settings, f)\n",
    "    return model, losses, history_train, model_settings\n"
   ],
   "metadata": {
    "collapsed": false,
    "ExecuteTime": {
     "end_time": "2024-02-21T06:15:54.287204Z",
     "start_time": "2024-02-21T06:15:54.161133800Z"
    }
   },
   "outputs": []
  },
  {
   "cell_type": "markdown",
   "source": [
    "# Load Oil dataset"
   ],
   "metadata": {
    "collapsed": false
   }
  },
  {
   "cell_type": "code",
   "execution_count": 29,
   "source": [
    "train_data_oil = np.load('../data/train_data.npy', allow_pickle=True)\n",
    "test_data_oil = np.load('../data/test_data.npy', allow_pickle=True)\n",
    "\n",
    "yn_train_oil, ys_train_oil, labels_train_oil = train_data_oil.take(0)['yn_train'], train_data_oil.take(0)['ys_train'], train_data_oil.take(0)['labels_train']\n",
    "yn_test_oil, ys_test_oil, labels_test_oil = test_data_oil.take(0)['yn_test'], test_data_oil.take(0)['ys_test'], test_data_oil.take(0)['labels_test']\n",
    "\n",
    "yn_train_oil, ys_train_oil, labels_train_oil = torch.Tensor(yn_train_oil), torch.Tensor(ys_train_oil), torch.Tensor(labels_train_oil)\n",
    "yn_test_oil, ys_test_oil, labels_test_oil = torch.Tensor(yn_test_oil), torch.Tensor(ys_test_oil), torch.Tensor(labels_test_oil)\n",
    "\n",
    "print(f\"Train size : {yn_train_oil.shape[0]} Test size : {yn_test_oil.shape[0]}\")"
   ],
   "metadata": {
    "collapsed": false,
    "ExecuteTime": {
     "end_time": "2024-02-21T06:15:56.198196900Z",
     "start_time": "2024-02-21T06:15:56.065571600Z"
    }
   },
   "outputs": []
  },
  {
   "cell_type": "markdown",
   "source": [
    "# Load IRIS dataset"
   ],
   "metadata": {
    "collapsed": false
   }
  },
  {
   "cell_type": "code",
   "execution_count": 30,
   "source": [
    "train_data_iris = np.load('../data/train_data_iris.npy', allow_pickle=True)\n",
    "test_data_iris = np.load('../data/test_data_iris.npy', allow_pickle=True)\n",
    "\n",
    "yn_train_iris, ys_train_iris, labels_train_iris = train_data_iris.take(0)['yn_train'], train_data_iris.take(0)['ys_train'], train_data_iris.take(0)['labels_train']\n",
    "yn_test_iris, ys_test_iris, labels_test_iris = test_data_iris.take(0)['yn_test'], test_data_iris.take(0)['ys_test'], test_data_iris.take(0)['labels_test']\n",
    "\n",
    "yn_train_iris, ys_train_iris, labels_train_iris = torch.Tensor(yn_train_iris), torch.Tensor(ys_train_iris), torch.Tensor(labels_train_iris)\n",
    "yn_test_iris, ys_test_iris, labels_test_iris = torch.Tensor(yn_test_iris), torch.Tensor(ys_test_iris), torch.Tensor(labels_test_iris)\n",
    "\n",
    "print(f\"Train size : {yn_train_iris.shape[0]} Test size : {yn_test_iris.shape[0]}\")\n"
   ],
   "metadata": {
    "collapsed": false,
    "ExecuteTime": {
     "end_time": "2024-02-21T06:15:57.252136100Z",
     "start_time": "2024-02-21T06:15:57.137056300Z"
    }
   },
   "outputs": []
  },
  {
   "cell_type": "markdown",
   "source": [
    "# LDGD\n",
    "## Oil flow"
   ],
   "metadata": {
    "collapsed": false
   }
  },
  {
   "cell_type": "code",
   "execution_count": 20,
   "source": [
    "model_settings = {\n",
    "    'latent_dim': 7,\n",
    "    'num_inducing_points_reg': 25,\n",
    "    'num_inducing_points_cls': 25,\n",
    "    'num_epochs_train': 25000,\n",
    "    'num_epochs_test': 25000,\n",
    "    'batch_size': 100,\n",
    "    'load_trained_model': False,\n",
    "    'load_tested_model': False,\n",
    "    'use_gpytorch': True,\n",
    "    'save_model': True,\n",
    "    'load_model':True,\n",
    "    'x_init': 'pca',\n",
    "    'shared_inducing_points': False\n",
    "}"
   ],
   "metadata": {
    "collapsed": false,
    "ExecuteTime": {
     "end_time": "2024-02-21T01:12:17.367108100Z",
     "start_time": "2024-02-21T01:12:17.262342500Z"
    }
   },
   "outputs": []
  },
  {
   "cell_type": "code",
   "execution_count": 21,
   "source": [
    "\n",
    "model_oil, losses_oil, history_train_oil, model_settings = train_model(data_cont = yn_train_oil,\n",
    "                                                                       data_cat = ys_train_oil,\n",
    "                                                                       settings = model_settings,\n",
    "                                                                       filename = 'oil')\n",
    "winsound.Beep(freq, duration*3)"
   ],
   "metadata": {
    "collapsed": false,
    "ExecuteTime": {
     "end_time": "2024-02-21T01:12:21.248040900Z",
     "start_time": "2024-02-21T01:12:18.115591Z"
    }
   },
   "outputs": []
  },
  {
   "cell_type": "code",
   "execution_count": 22,
   "source": [
    "predictions_oil, metrics_oil, history_test = model_oil.evaluate(yn_test=yn_test_oil, ys_test=labels_test_oil, epochs=5000)\n",
    "\n",
    "alpha_reg_oil = 1 / model_oil.kernel_reg.base_kernel.lengthscale.cpu().detach().numpy()\n",
    "alpha_cls_oil = 1 / model_oil.kernel_cls.base_kernel.lengthscale.cpu().detach().numpy()\n",
    "\n",
    "x_oil = model_oil.x.q_mu.cpu().detach().numpy()\n",
    "std_oil = torch.nn.functional.softplus(model_oil.x.q_log_sigma).cpu().detach().numpy()\n",
    "\n",
    "x_test_oil = model_oil.x_test.q_mu.cpu().detach().numpy()\n",
    "std_test_oil = torch.nn.functional.softplus(model_oil.x_test.q_log_sigma).cpu().detach().numpy()\n",
    "winsound.Beep(freq, duration)"
   ],
   "metadata": {
    "collapsed": false,
    "ExecuteTime": {
     "end_time": "2024-02-21T01:13:51.153212900Z",
     "start_time": "2024-02-21T01:12:22.563212100Z"
    }
   },
   "outputs": []
  },
  {
   "cell_type": "code",
   "execution_count": null,
   "source": [
    "latent_dim = x_oil.shape[-1]\n",
    "values, indices = torch.topk(torch.tensor(alpha_cls_oil), k=2, largest=True)\n",
    "l1 = indices.numpy().flatten()[0]\n",
    "l2 = indices.numpy().flatten()[1]\n",
    "\n",
    "fig, axs = plt.subplots(1,5, figsize=(32, 8))\n",
    "\n",
    "\n",
    "plot_loss_gplvm(losses_oil, ax=axs[0])\n",
    "plot_ARD_gplvm(latent_dim, alpha_cls_oil, ax=axs[2])\n",
    "plot_ARD_gplvm(latent_dim, alpha_reg_oil, ax=axs[1])\n",
    "plot_scatter_gplvm(x_oil, labels_train_oil, l1=l1, l2=l2, ax=axs[3], colors=['r', 'b', 'g'], show_errorbars=True, std=std_oil)\n",
    "plot_scatter_gplvm(x_test_oil, labels_test_oil, l1=l1, l2=l2, ax=axs[4], colors=['r', 'b', 'g'], show_errorbars=True, std=std_test_oil)\n",
    "plt.tight_layout()\n"
   ],
   "metadata": {
    "collapsed": false
   },
   "outputs": []
  },
  {
   "cell_type": "markdown",
   "source": [
    "# Iris"
   ],
   "metadata": {
    "collapsed": false
   }
  },
  {
   "cell_type": "code",
   "execution_count": 31,
   "source": [
    "model_settings = {\n",
    "    'latent_dim': 7,\n",
    "    'num_inducing_points_reg': 5,\n",
    "    'num_inducing_points_cls': 5,\n",
    "    'num_epochs_train': 25000,\n",
    "    'num_epochs_test': 25000,\n",
    "    'batch_size': 100,\n",
    "    'load_trained_model': False,\n",
    "    'load_tested_model': False,\n",
    "    'use_gpytorch': True,\n",
    "    'save_model': True,\n",
    "    'load_model':False,\n",
    "    'x_init': None,\n",
    "    'shared_inducing_points': True\n",
    "}\n",
    "\n",
    "model_iris, losses_iris, history_train_iris, model_settings = train_model(data_cont = yn_train_iris,\n",
    "                                                                          data_cat = ys_train_iris,\n",
    "                                                                          settings = model_settings,\n",
    "                                                                          filename = 'iris')\n",
    "winsound.Beep(freq, duration*2)"
   ],
   "metadata": {
    "collapsed": false,
    "ExecuteTime": {
     "end_time": "2024-02-21T06:16:18.057682700Z",
     "start_time": "2024-02-21T06:16:10.994884100Z"
    }
   },
   "outputs": []
  },
  {
   "cell_type": "code",
   "execution_count": null,
   "source": [
    "predictions_iris, metrics_iris, history_test = model_iris.evaluate(yn_test=yn_test_iris, ys_test=labels_test_iris, epochs=50)\n",
    "\n",
    "alpha_reg_iris = 1 / model_iris.kernel_reg.base_kernel.lengthscale.cpu().detach().numpy()\n",
    "alpha_cls_iris = 1 / model_iris.kernel_cls.base_kernel.lengthscale.cpu().detach().numpy()\n",
    "\n",
    "x_iris = model_iris.x.q_mu.cpu().detach().numpy()\n",
    "std_iris = torch.nn.functional.softplus(model_iris.x.q_log_sigma).cpu().detach().numpy()\n",
    "\n",
    "x_test_iris = model_iris.x_test.q_mu.cpu().detach().numpy()\n",
    "std_test_iris = torch.nn.functional.softplus(model_iris.x_test.q_log_sigma).cpu().detach().numpy()\n",
    "winsound.Beep(freq, duration)"
   ],
   "metadata": {
    "collapsed": false
   },
   "outputs": []
  },
  {
   "cell_type": "code",
   "execution_count": null,
   "source": [
    "latent_dim = x_iris.shape[-1]\n",
    "values, indices = torch.topk(torch.tensor(alpha_cls_iris), k=2, largest=True)\n",
    "l1 = indices.numpy().flatten()[0]\n",
    "l2 = indices.numpy().flatten()[1]\n",
    "\n",
    "fig, axs = plt.subplots(1,5, figsize=(32, 8))\n",
    "\n",
    "\n",
    "plot_loss_gplvm(losses_iris, ax=axs[0])\n",
    "plot_ARD_gplvm(latent_dim, alpha_cls_iris, ax=axs[2])\n",
    "plot_ARD_gplvm(latent_dim, alpha_reg_iris, ax=axs[1])\n",
    "plot_scatter_gplvm(x_iris, labels_train_iris, l1=l1, l2=l2, ax=axs[3], colors=['r', 'b', 'g'], show_errorbars=True, std=std_iris)\n",
    "plot_scatter_gplvm(x_test_iris, labels_test_iris, l1=l1, l2=l2, ax=axs[4], colors=['r', 'b', 'g'], show_errorbars=True, std=std_test_iris)\n",
    "plt.tight_layout()"
   ],
   "metadata": {
    "collapsed": false
   },
   "outputs": []
  },
  {
   "cell_type": "code",
   "execution_count": null,
   "source": [
    "fig, axs = plt.subplots(1,4, figsize=(32, 8))\n",
    "\n",
    "values, indices = torch.topk(torch.tensor(alpha_cls_iris), k=2, largest=True)\n",
    "l1 = indices.numpy().flatten()[0]\n",
    "l2 = indices.numpy().flatten()[1]\n",
    "\n",
    "plot_ARD_gplvm(x_iris.shape[-1], alpha_cls_iris, ax=axs[0])\n",
    "plot_scatter_gplvm(x_iris, labels_train_iris, l1=l1, l2=l2, ax=axs[1], colors=['r', 'b', 'g'], show_errorbars=True, std=std_iris)\n",
    "\n",
    "values, indices = torch.topk(torch.tensor(alpha_cls_oil), k=2, largest=True)\n",
    "l1 = indices.numpy().flatten()[0]\n",
    "l2 = indices.numpy().flatten()[1]\n",
    "\n",
    "plot_ARD_gplvm(x_oil.shape[-1], alpha_cls_oil, ax=axs[2])\n",
    "plot_scatter_gplvm(x_oil, labels_train_oil, l1=l1, l2=l2, ax=axs[3], colors=['r', 'b', 'g'], show_errorbars=True, std=std_oil)\n"
   ],
   "metadata": {
    "collapsed": false
   },
   "outputs": []
  },
  {
   "cell_type": "markdown",
   "source": [
    "# Reconstruction"
   ],
   "metadata": {
    "collapsed": false
   }
  },
  {
   "cell_type": "code",
   "execution_count": 32,
   "source": [
    "model_settings = {\n",
    "    'latent_dim': 2,\n",
    "    'num_inducing_points_reg': 30,\n",
    "    'num_inducing_points_cls': 30,\n",
    "    'num_epochs_train': 5000,\n",
    "    'num_epochs_test': 5000,\n",
    "    'batch_size': 100,\n",
    "    'load_trained_model': False,\n",
    "    'load_tested_model': False,\n",
    "    'use_gpytorch': True,\n",
    "    'n_features': 10,\n",
    "    'save_model': True,\n",
    "    'load_model':False,\n",
    "    'x_init': 'pca',\n",
    "    'shared_inducing_points': False\n",
    "}"
   ],
   "metadata": {
    "collapsed": false,
    "ExecuteTime": {
     "end_time": "2024-02-21T06:16:43.481301800Z",
     "start_time": "2024-02-21T06:16:43.369983Z"
    }
   },
   "outputs": []
  },
  {
   "cell_type": "code",
   "execution_count": 33,
   "source": [
    "model_oil, losses_oil, history_train_oil, model_settings = train_model(data_cont = yn_train_oil,\n",
    "                                                                       data_cat = ys_train_oil,\n",
    "                                                                       settings = model_settings,\n",
    "                                                                       filename = 'oil_2d')\n",
    "winsound.Beep(freq, duration*3)"
   ],
   "metadata": {
    "collapsed": false,
    "ExecuteTime": {
     "end_time": "2024-02-21T06:20:15.173380300Z",
     "start_time": "2024-02-21T06:16:44.579721400Z"
    }
   },
   "outputs": []
  },
  {
   "cell_type": "code",
   "execution_count": 34,
   "source": [
    "predictions_oil, metrics_oil, history_test = model_oil.evaluate(yn_test=yn_test_oil, ys_test=labels_test_oil, epochs=5000)\n",
    "\n",
    "alpha_reg_oil = 1 / model_oil.kernel_reg.base_kernel.lengthscale.cpu().detach().numpy()\n",
    "alpha_cls_oil = 1 / model_oil.kernel_cls.base_kernel.lengthscale.cpu().detach().numpy()\n",
    "\n",
    "x_oil = model_oil.x.q_mu.cpu().detach().numpy()\n",
    "std_oil = torch.nn.functional.softplus(model_oil.x.q_log_sigma).cpu().detach().numpy()\n",
    "\n",
    "x_test_oil = model_iris.x_test.q_mu.cpu().detach().numpy()\n",
    "std_test_iris = torch.nn.functional.softplus(model_oil.x_test.q_log_sigma).cpu().detach().numpy()\n",
    "winsound.Beep(freq, duration)"
   ],
   "metadata": {
    "collapsed": false,
    "ExecuteTime": {
     "end_time": "2024-02-21T06:21:41.415194400Z",
     "start_time": "2024-02-21T06:20:15.173380300Z"
    }
   },
   "outputs": []
  },
  {
   "cell_type": "code",
   "execution_count": 35,
   "source": [
    "latent_dim = x_oil.shape[-1]\n",
    "values, indices = torch.topk(torch.tensor(alpha_cls_oil), k=2, largest=True)\n",
    "l1 = indices.numpy().flatten()[0]\n",
    "l2 = indices.numpy().flatten()[1]\n",
    "\n",
    "fig, axs = plt.subplots(1,5, figsize=(32, 8))\n",
    "\n",
    "\n",
    "plot_loss_gplvm(losses_oil, ax=axs[0])\n",
    "plot_ARD_gplvm(latent_dim, alpha_cls_oil, ax=axs[2])\n",
    "plot_ARD_gplvm(latent_dim, alpha_reg_oil, ax=axs[1])\n",
    "plot_scatter_gplvm(x_oil, labels_train_oil, l1=l1, l2=l2, ax=axs[3], colors=['r', 'b', 'g'], show_errorbars=True, std=std_oil)\n",
    "plot_scatter_gplvm(x_test_oil, labels_test_oil, l1=l1, l2=l2, ax=axs[4], colors=['r', 'b', 'g'], show_errorbars=True, std=std_test_oil)\n",
    "plt.tight_layout()\n"
   ],
   "metadata": {
    "collapsed": false,
    "ExecuteTime": {
     "end_time": "2024-02-21T06:21:42.655467400Z",
     "start_time": "2024-02-21T06:21:41.415194400Z"
    }
   },
   "outputs": []
  },
  {
   "cell_type": "code",
   "execution_count": 90,
   "source": [
    "fig, ax = plt.subplots(1, figsize=(8, 8))\n",
    "test_point = torch.tensor([[3,3], [0, 0], [-2,-2]])\n",
    "\n",
    "test_point_reconstructed, predictions_std = model_oil.regress_x(test_point)\n",
    "plot_scatter_gplvm(x_oil, labels_train_oil, l1=l1, l2=l2, ax=ax, colors=['r', 'b', 'g'], show_errorbars=True, std=std_oil)\n",
    "ax.scatter(test_point[0,0], test_point[0,1], marker='*', color='green', s=300, alpha=1, edgecolor='black', linewidth=2)\n",
    "ax.scatter(test_point[1,0], test_point[1,1], marker='*', color='red', s=300, alpha=1, edgecolor='black', linewidth=2)\n",
    "ax.scatter(test_point[2,0], test_point[2,1], marker='*', color='blue', s=300, alpha=1, edgecolor='black', linewidth=2)\n",
    "plt.tight_layout()\n",
    "plt.savefig(\"oil_latent_scatter_with_test_point.png\", bbox_inches='tight')\n",
    "plot_box_plots(data=yn_train_oil, labels=labels_train_oil, save_path='saved_results/', file_name='box_plot_oil_with_point', new_point_values=test_point_reconstructed.cpu().detach(), new_point_label=[2, 0, 1])\n",
    "\n",
    "plt.tight_layout()\n",
    "plt.savefig(\"oil_barplot_with_test_point.png\")\n"
   ],
   "metadata": {
    "collapsed": false,
    "ExecuteTime": {
     "end_time": "2024-02-21T09:20:02.437509700Z",
     "start_time": "2024-02-21T09:19:58.128356500Z"
    }
   },
   "outputs": []
  },
  {
   "cell_type": "code",
   "execution_count": 37,
   "source": [
    "x_oil.shape"
   ],
   "metadata": {
    "collapsed": false,
    "ExecuteTime": {
     "end_time": "2024-02-21T06:21:45.997066400Z",
     "start_time": "2024-02-21T06:21:45.606327600Z"
    }
   },
   "outputs": []
  },
  {
   "cell_type": "code",
   "execution_count": 40,
   "source": [
    "import matplotlib.pyplot as plt\n",
    "import matplotlib.gridspec as gridspec\n",
    "import torch\n",
    "\n",
    "fig = plt.figure(figsize=(14, 8))  # Adjust size as needed\n",
    "\n",
    "# Create a GridSpec with 1 row and 2 columns,\n",
    "# with the second column taking 75% of the width\n",
    "gs = gridspec.GridSpec(1, 2, width_ratios=[1, 3])\n",
    "\n",
    "# Create subplots by specifying their location in the GridSpec\n",
    "ax1 = fig.add_subplot(gs[0, 0])  # First subplot\n",
    "ax2 = fig.add_subplot(gs[0, 1])  # Second subplot with more width\n",
    "\n",
    "# Now, use ax1 and ax2 instead of axs[0] and axs[1]\n",
    "\n",
    "# Scatter plot on the left\n",
    "test_point = torch.tensor([[1, 1]])\n",
    "test_point_reconstructed, predictions_std = model_oil.regress_x(test_point)\n",
    "plot_scatter_gplvm(x_oil, labels_train_oil, l1=l1, l2=l2, ax=ax1, colors=['r', 'b', 'g'], show_errorbars=True, std=std_oil)\n",
    "ax1.scatter(test_point[0,0], test_point[0,1], marker='x', color='red', s=100)\n",
    "\n",
    "# Box plot on the right\n",
    "plot_box_plots(data=yn_train_oil, labels=labels_train_oil, save_path=None, file_name='box_plot_oil', new_point_values=test_point_reconstructed.cpu().detach(), new_point_label=['Test Point'], ax=ax2)\n",
    "\n",
    "plt.tight_layout()\n",
    "plt.show()\n"
   ],
   "metadata": {
    "collapsed": false,
    "ExecuteTime": {
     "end_time": "2024-02-21T07:15:45.679140Z",
     "start_time": "2024-02-21T07:15:42.588786600Z"
    }
   },
   "outputs": []
  },
  {
   "cell_type": "code",
   "execution_count": 41,
   "source": [
    "model_iris, losses_iris, history_train_iris, model_settings = train_model(data_cont = yn_train_iris,\n",
    "                                                                       data_cat = ys_train_iris,\n",
    "                                                                       settings = model_settings,\n",
    "                                                                       filename = 'iris_2d')\n",
    "winsound.Beep(freq, duration*3)"
   ],
   "metadata": {
    "collapsed": false,
    "ExecuteTime": {
     "end_time": "2024-02-21T07:24:18.228672400Z",
     "start_time": "2024-02-21T07:16:20.010155Z"
    }
   },
   "outputs": []
  },
  {
   "cell_type": "code",
   "execution_count": 44,
   "source": [
    "predictions_iris, metrics_iris, history_test = model_iris.evaluate(yn_test=yn_test_iris, ys_test=labels_test_iris, epochs=2000)\n",
    "\n",
    "alpha_reg_iris = 1 / model_iris.kernel_reg.base_kernel.lengthscale.cpu().detach().numpy()\n",
    "alpha_cls_iris = 1 / model_iris.kernel_cls.base_kernel.lengthscale.cpu().detach().numpy()\n",
    "\n",
    "x_iris = model_iris.x.q_mu.cpu().detach().numpy()\n",
    "std_iris = torch.nn.functional.softplus(model_iris.x.q_log_sigma).cpu().detach().numpy()\n",
    "\n",
    "x_test_iris = model_iris.x_test.q_mu.cpu().detach().numpy()\n",
    "std_test_iris = torch.nn.functional.softplus(model_iris.x_test.q_log_sigma).cpu().detach().numpy()\n",
    "winsound.Beep(freq, duration)"
   ],
   "metadata": {
    "collapsed": false,
    "ExecuteTime": {
     "end_time": "2024-02-21T07:57:49.267711700Z",
     "start_time": "2024-02-21T07:56:30.287006300Z"
    }
   },
   "outputs": []
  },
  {
   "cell_type": "code",
   "execution_count": 96,
   "source": [
    "latent_dim = x_iris.shape[-1]\n",
    "values, indices = torch.topk(torch.tensor(alpha_cls_iris), k=2, largest=True)\n",
    "l1 = indices.numpy().flatten()[0]\n",
    "l2 = indices.numpy().flatten()[1]\n",
    "\n",
    "fig, axs = plt.subplots(1,5, figsize=(32, 8))\n",
    "\n",
    "\n",
    "plot_loss_gplvm(losses_iris, ax=axs[0])\n",
    "plot_ARD_gplvm(latent_dim, alpha_cls_iris, ax=axs[2])\n",
    "plot_ARD_gplvm(latent_dim, alpha_reg_iris, ax=axs[1])\n",
    "plot_scatter_gplvm(x_iris, labels_train_iris, l1=l1, l2=l2, ax=axs[3], colors=['r', 'b', 'g'], show_errorbars=True, std=std_iris)\n",
    "plot_scatter_gplvm(x_test_iris, labels_test_iris, l1=l1, l2=l2, ax=axs[4], colors=['r', 'b', 'g'], show_errorbars=True, std=std_test_iris)\n",
    "plt.tight_layout()\n"
   ],
   "metadata": {
    "collapsed": false,
    "ExecuteTime": {
     "end_time": "2024-02-21T09:30:34.479566400Z",
     "start_time": "2024-02-21T09:30:33.320881200Z"
    }
   },
   "outputs": []
  },
  {
   "cell_type": "code",
   "execution_count": 98,
   "source": [
    "fig, ax = plt.subplots(1, figsize=(8, 8))\n",
    "test_point = torch.tensor([[1,1.7], [-2, 0], [0,-1]])\n",
    "\n",
    "test_point_reconstructed, predictions_std = model_iris.regress_x(test_point)\n",
    "plot_scatter_gplvm(x_iris, labels_train_iris, l1=l1, l2=l2, ax=ax, colors=['r', 'b', 'g'], show_errorbars=True, std=std_iris)\n",
    "ax.scatter(test_point[0,0], test_point[0,1], marker='x', color='green', s=400, alpha=1, edgecolor='black', linewidth=2)\n",
    "ax.scatter(test_point[1,0], test_point[1,1], marker='x', color='red', s=400, alpha=1, edgecolor='black', linewidth=2)\n",
    "ax.scatter(test_point[2,0], test_point[2,1], marker='x', color='blue', s=400, alpha=1, edgecolor='black', linewidth=2)\n",
    "plt.grid('off')\n",
    "plt.tight_layout()\n",
    "plt.savefig(\"iris_latent_scatter_with_test_point.png\", bbox_inches='tight')\n",
    "plot_box_plots(data=yn_train_iris, labels=labels_train_iris, save_path='saved_results/', file_name='box_plot_iris_with_point', new_point_values=test_point_reconstructed.cpu().detach(), new_point_label=[2, 0, 1])\n",
    "\n",
    "plt.tight_layout()\n",
    "plt.savefig(\"iris_barplot_with_test_point.png\")\n",
    "plt.savefig(\"iris_barplot_with_test_point.svg\")\n"
   ],
   "metadata": {
    "collapsed": false,
    "ExecuteTime": {
     "end_time": "2024-02-21T09:33:04.623322600Z",
     "start_time": "2024-02-21T09:33:02.842602300Z"
    }
   },
   "outputs": []
  },
  {
   "cell_type": "code",
   "execution_count": null,
   "source": [],
   "metadata": {
    "collapsed": false
   },
   "outputs": []
  }
 ],
 "metadata": {
  "kernelspec": {
   "display_name": "Python 3",
   "language": "python",
   "name": "python3"
  },
  "language_info": {
   "codemirror_mode": {
    "name": "ipython",
    "version": 2
   },
   "file_extension": ".py",
   "mimetype": "text/x-python",
   "name": "python",
   "nbconvert_exporter": "python",
   "pygments_lexer": "ipython2",
   "version": "2.7.6"
  }
 },
 "nbformat": 4,
 "nbformat_minor": 0
}
